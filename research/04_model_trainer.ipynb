{
 "cells": [
  {
   "cell_type": "code",
   "execution_count": 1,
   "metadata": {},
   "outputs": [],
   "source": [
    "import os "
   ]
  },
  {
   "cell_type": "code",
   "execution_count": 2,
   "metadata": {},
   "outputs": [],
   "source": [
    "os.chdir(\"../\")"
   ]
  },
  {
   "cell_type": "code",
   "execution_count": 3,
   "metadata": {},
   "outputs": [
    {
     "data": {
      "text/plain": [
       "'d:\\\\Udemy\\\\ML_Bootcamp\\\\18_End_to_End_DataScience_Project\\\\datascienceproject'"
      ]
     },
     "execution_count": 3,
     "metadata": {},
     "output_type": "execute_result"
    }
   ],
   "source": [
    "%pwd"
   ]
  },
  {
   "cell_type": "code",
   "execution_count": 4,
   "metadata": {},
   "outputs": [],
   "source": [
    "from dataclasses import dataclass\n",
    "from pathlib import Path \n",
    "\n",
    "@dataclass\n",
    "class ModelTrainingConfig:\n",
    "    root_dir: Path\n",
    "    train_data_path: Path\n",
    "    test_data_path: Path\n",
    "    model_name: str\n",
    "    alpha: float\n",
    "    l1_ratio: float\n",
    "    target_column: str"
   ]
  },
  {
   "cell_type": "markdown",
   "metadata": {},
   "source": [
    "##### Define ConfigurationManager"
   ]
  },
  {
   "cell_type": "code",
   "execution_count": 5,
   "metadata": {},
   "outputs": [],
   "source": [
    "from src.datascience.constants import *\n",
    "from src.datascience.utils.common import read_yaml,create_dictionaries"
   ]
  },
  {
   "cell_type": "code",
   "execution_count": 12,
   "metadata": {},
   "outputs": [],
   "source": [
    "class ConfigurationManager:\n",
    "    def __init__(self,\n",
    "                 config_filepath=CONFIG_FILE_PATH,\n",
    "                 params_filepath=PARAMS_FILE_PATH,\n",
    "                 schema_filepath=SCHEMA_FILE_PATH\n",
    "                 ):\n",
    "        self.config=read_yaml(config_filepath)\n",
    "        self.params=read_yaml(params_filepath)\n",
    "        self.schema=read_yaml(schema_filepath)\n",
    "        \n",
    "        create_dictionaries([self.config.artifacts_root])\n",
    "        \n",
    "        \n",
    "    def get_model_trainer_config(self) -> ModelTrainingConfig:\n",
    "        config=self.config.model_trainer\n",
    "        params=self.params.ElasticNet\n",
    "        schema=self.schema.TARGET_COLUMN\n",
    "        \n",
    "        create_dictionaries([config.root_dir])\n",
    "        \n",
    "        model_trainer_config= ModelTrainingConfig(\n",
    "            root_dir=Path(config.root_dir),\n",
    "            train_data_path=Path(config.train_data_path),\n",
    "            test_data_path=Path(config.test_data_path),\n",
    "            model_name=config.model_name,\n",
    "            alpha=params.alpha,\n",
    "            l1_ratio=params.l1_ratio,\n",
    "            target_column=schema.name,\n",
    "        )\n",
    "        \n",
    "        return model_trainer_config\n",
    "        "
   ]
  },
  {
   "cell_type": "code",
   "execution_count": 6,
   "metadata": {},
   "outputs": [],
   "source": [
    "import pandas as pd\n",
    "import os \n",
    "from src.datascience import logger\n",
    "from sklearn.linear_model import ElasticNet\n",
    "import joblib"
   ]
  },
  {
   "cell_type": "code",
   "execution_count": 15,
   "metadata": {},
   "outputs": [],
   "source": [
    "class ModelTrainer:\n",
    "    def __init__(self, config: ModelTrainingConfig):\n",
    "        self.config = config\n",
    "\n",
    "    def train(self):\n",
    "        train_data=pd.read_csv(self.config.train_data_path)\n",
    "        test_data=pd.read_csv(self.config.test_data_path)\n",
    "        \n",
    "        \n",
    "        train_x=train_data.drop([self.config.target_column],axis=1)\n",
    "        train_y=train_data[self.config.target_column]\n",
    "        \n",
    "        test_x=test_data.drop([self.config.target_column],axis=1)\n",
    "        test_y=test_data[self.config.target_column]\n",
    "        \n",
    "        lr=ElasticNet(alpha=self.config.alpha,l1_ratio=self.config.l1_ratio,random_state=42)\n",
    "        lr.fit(train_x,train_y)\n",
    "        \n",
    "        joblib.dump(lr,os.path.join(self.config.root_dir,self.config.model_name))\n",
    "        "
   ]
  },
  {
   "cell_type": "code",
   "execution_count": 16,
   "metadata": {},
   "outputs": [
    {
     "name": "stdout",
     "output_type": "stream",
     "text": [
      "[2025-02-18 07:00:35,382] INFO: common: yaml file: <_io.TextIOWrapper name='D:\\\\Udemy\\\\ML_Bootcamp\\\\18_End_to_End_DataScience_Project\\\\datascienceproject\\\\src\\\\datascience\\\\config\\\\config.yaml' mode='r' encoding='UTF-8'> loaded successfully:]\n",
      "[2025-02-18 07:00:35,384] INFO: common: yaml file: <_io.TextIOWrapper name='D:\\\\Udemy\\\\ML_Bootcamp\\\\18_End_to_End_DataScience_Project\\\\datascienceproject\\\\params.yaml' mode='r' encoding='UTF-8'> loaded successfully:]\n",
      "[2025-02-18 07:00:35,386] INFO: common: yaml file: <_io.TextIOWrapper name='D:\\\\Udemy\\\\ML_Bootcamp\\\\18_End_to_End_DataScience_Project\\\\datascienceproject\\\\schema.yaml' mode='r' encoding='UTF-8'> loaded successfully:]\n",
      "[2025-02-18 07:00:35,387] INFO: common: Created directory at: artifacts.:]\n",
      "[2025-02-18 07:00:35,388] INFO: common: Created directory at: artifacts/model_trainer.:]\n",
      "[2025-02-18 07:00:35,400] INFO: 2756337894: Model training completed successfully.:]\n"
     ]
    }
   ],
   "source": [
    "try:\n",
    "    config= ConfigurationManager()\n",
    "    model_trainer_config=config.get_model_trainer_config()\n",
    "    model_trainer=ModelTrainer(config=model_trainer_config)\n",
    "    model_trainer.train()\n",
    "    logger.info(f\"Model training completed successfully.\")\n",
    "except Exception as e:\n",
    "    logger.error(f\"Error occurred during model training: {str(e)}\")\n",
    "    raise e"
   ]
  },
  {
   "cell_type": "code",
   "execution_count": null,
   "metadata": {},
   "outputs": [],
   "source": []
  },
  {
   "cell_type": "code",
   "execution_count": null,
   "metadata": {},
   "outputs": [],
   "source": []
  }
 ],
 "metadata": {
  "kernelspec": {
   "display_name": "Python 3",
   "language": "python",
   "name": "python3"
  },
  "language_info": {
   "codemirror_mode": {
    "name": "ipython",
    "version": 3
   },
   "file_extension": ".py",
   "mimetype": "text/x-python",
   "name": "python",
   "nbconvert_exporter": "python",
   "pygments_lexer": "ipython3",
   "version": "3.10.16"
  }
 },
 "nbformat": 4,
 "nbformat_minor": 2
}
